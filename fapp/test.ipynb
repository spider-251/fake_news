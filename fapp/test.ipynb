{
 "cells": [
  {
   "cell_type": "code",
   "execution_count": 9,
   "metadata": {},
   "outputs": [],
   "source": [
    "import pandas as pd"
   ]
  },
  {
   "cell_type": "code",
   "execution_count": 21,
   "metadata": {},
   "outputs": [],
   "source": [
    "fake_l=['edu20.fake.txt','entmt09.fake.txt','polit10.fake.txt']\n",
    "legit_l=['tech031.legit.txt','entmt21.legit.txt','biz37.legit.txt']\n",
    "val=[]\n",
    "text =[]\n",
    "df = pd.DataFrame(list(zip(text,val)), columns=[\"text\",\"val\"])\n",
    "for i in fake_l:\n",
    "    f =open(\"static\\\\data\\\\fake\\\\\"+i)\n",
    "    c=f.read()\n",
    "    df.loc[len(df.index)] =[c,\"fake\"]\n",
    "\n",
    "for j in legit_l:\n",
    "    f =open(\"static\\\\data\\\\legit\\\\\"+j)\n",
    "    c=f.read()\n",
    "    df.loc[len(df.index)] =[c,\"legit\"]\n",
    "\n",
    "\n"
   ]
  },
  {
   "cell_type": "code",
   "execution_count": 18,
   "metadata": {},
   "outputs": [
    {
     "data": {
      "text/plain": [
       "'After exposure to YouTube content, AT&T, Verizon to double ad campaign\\n\\n\\n\\nAfter their ad campaigns received tremendous exposure with adult rated content featuring nudity and pornography on YouTube. AT&T and Verizon have pledged to double their ad campaigns with YouTube.  Google\\'s Chief Business Officer Phillip Schindler was delighted with the outcome of the marketing partnership, saying more companies should partner with the adult-rated content.  \"They never thought their ads could get this much viewership.  It is a literal gold mine for them,\" Schindler wrote in his blog.'"
      ]
     },
     "execution_count": 18,
     "metadata": {},
     "output_type": "execute_result"
    }
   ],
   "source": []
  },
  {
   "cell_type": "code",
   "execution_count": 23,
   "metadata": {},
   "outputs": [],
   "source": [
    "df.to_csv(\"static\\\\data\\\\sample_data.csv\")"
   ]
  }
 ],
 "metadata": {
  "interpreter": {
   "hash": "da268dc3d86cf4c918e94c69f87c2248f928d3ad26cb6a867510ba387375fd15"
  },
  "kernelspec": {
   "display_name": "Python 3.9.7 ('env1': venv)",
   "language": "python",
   "name": "python3"
  },
  "language_info": {
   "codemirror_mode": {
    "name": "ipython",
    "version": 3
   },
   "file_extension": ".py",
   "mimetype": "text/x-python",
   "name": "python",
   "nbconvert_exporter": "python",
   "pygments_lexer": "ipython3",
   "version": "3.9.7"
  },
  "orig_nbformat": 4
 },
 "nbformat": 4,
 "nbformat_minor": 2
}
